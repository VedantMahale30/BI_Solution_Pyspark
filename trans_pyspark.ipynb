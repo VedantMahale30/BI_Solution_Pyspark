{
 "cells": [
  {
   "cell_type": "code",
   "execution_count": 1,
   "id": "bc2eaaf4-17cc-446d-a919-c337d44f4c84",
   "metadata": {},
   "outputs": [],
   "source": [
    "from pyspark.sql import * \n",
    "from pyspark.sql.functions import *"
   ]
  },
  {
   "cell_type": "code",
   "execution_count": 2,
   "id": "52c3e32c-d68b-4b62-b48c-c6f9a300294b",
   "metadata": {},
   "outputs": [],
   "source": [
    "spark = SparkSession.builder.appName(\".\").getOrCreate()"
   ]
  },
  {
   "cell_type": "code",
   "execution_count": 3,
   "id": "313546ba-ef04-441b-bd0b-c26c3e6b9dcb",
   "metadata": {},
   "outputs": [],
   "source": [
    "loan_df = spark.read.format(\"csv\").options(header=\"true\",inferSchema=\"true\").load(\"/user/test/loan.csv\")"
   ]
  },
  {
   "cell_type": "code",
   "execution_count": 4,
   "id": "985079bb-c2f7-49fa-b65d-c1d74c78b545",
   "metadata": {},
   "outputs": [],
   "source": [
    "#loan_df.show(10,False)"
   ]
  },
  {
   "cell_type": "code",
   "execution_count": 5,
   "id": "a842099e-cebf-4fe4-8141-15e5b6bf0192",
   "metadata": {},
   "outputs": [
    {
     "data": {
      "text/html": [
       "\n",
       "            <div>\n",
       "                <p><b>SparkSession - in-memory</b></p>\n",
       "                \n",
       "        <div>\n",
       "            <p><b>SparkContext</b></p>\n",
       "\n",
       "            <p><a href=\"http://SL-LAPTOP-D193.slipl.in:4040\">Spark UI</a></p>\n",
       "\n",
       "            <dl>\n",
       "              <dt>Version</dt>\n",
       "                <dd><code>v3.5.3</code></dd>\n",
       "              <dt>Master</dt>\n",
       "                <dd><code>local[*]</code></dd>\n",
       "              <dt>AppName</dt>\n",
       "                <dd><code>.</code></dd>\n",
       "            </dl>\n",
       "        </div>\n",
       "        \n",
       "            </div>\n",
       "        "
      ],
      "text/plain": [
       "<pyspark.sql.session.SparkSession at 0x2181d1830b0>"
      ]
     },
     "execution_count": 5,
     "metadata": {},
     "output_type": "execute_result"
    }
   ],
   "source": [
    "spark"
   ]
  },
  {
   "cell_type": "code",
   "execution_count": 6,
   "id": "cbd20d3a-1386-426c-ae7e-cd547ccd7570",
   "metadata": {
    "scrolled": true
   },
   "outputs": [
    {
     "data": {
      "text/plain": [
       "500"
      ]
     },
     "execution_count": 6,
     "metadata": {},
     "output_type": "execute_result"
    }
   ],
   "source": [
    "#Count of rows \n",
    "\n",
    "loan_df.count()"
   ]
  },
  {
   "cell_type": "code",
   "execution_count": 7,
   "id": "1fba7f88-13e9-40b4-95df-07e59f41174b",
   "metadata": {},
   "outputs": [
    {
     "name": "stdout",
     "output_type": "stream",
     "text": [
      "root\n",
      " |-- Customer_ID: string (nullable = true)\n",
      " |-- Age: integer (nullable = true)\n",
      " |-- Gender: string (nullable = true)\n",
      " |-- Occupation: string (nullable = true)\n",
      " |-- Marital Status: string (nullable = true)\n",
      " |-- Family Size: integer (nullable = true)\n",
      " |-- Income: integer (nullable = true)\n",
      " |-- Expenditure: integer (nullable = true)\n",
      " |-- Use Frequency: integer (nullable = true)\n",
      " |-- Loan Category: string (nullable = true)\n",
      " |-- Loan Amount: string (nullable = true)\n",
      " |-- Overdue: integer (nullable = true)\n",
      " |--  Debt Record: string (nullable = true)\n",
      " |--  Returned Cheque: integer (nullable = true)\n",
      " |--  Dishonour of Bill: integer (nullable = true)\n",
      "\n"
     ]
    }
   ],
   "source": [
    "loan_df.printSchema()"
   ]
  },
  {
   "cell_type": "markdown",
   "id": "2e23c4b1-fd6e-471b-8e9b-25eede56dbef",
   "metadata": {
    "jp-MarkdownHeadingCollapsed": true
   },
   "source": [
    "#### 1. Demographic Insights"
   ]
  },
  {
   "cell_type": "code",
   "execution_count": 9,
   "id": "40e47d57-3864-4d30-ab41-f1c040aaf44a",
   "metadata": {},
   "outputs": [
    {
     "name": "stdout",
     "output_type": "stream",
     "text": [
      "+-----------+\n",
      "|Average_Age|\n",
      "+-----------+\n",
      "|     40.946|\n",
      "+-----------+\n",
      "\n"
     ]
    }
   ],
   "source": [
    "#Average Age: Calculate the average age of customers.\n",
    "\n",
    "loan_df.select(avg(\"Age\").alias(\"Average_Age\")).show()"
   ]
  },
  {
   "cell_type": "code",
   "execution_count": 10,
   "id": "04b9eeb8-a5f9-4b15-9fd0-efc56f8e0675",
   "metadata": {},
   "outputs": [
    {
     "name": "stdout",
     "output_type": "stream",
     "text": [
      "+------+-----+\n",
      "|Gender|count|\n",
      "+------+-----+\n",
      "|  MALE|  280|\n",
      "|FEMALE|  220|\n",
      "+------+-----+\n",
      "\n"
     ]
    }
   ],
   "source": [
    "#Gender Distribution: Count of male vs. female customers.\n",
    "loan_df.groupBy(\"Gender\").count().show()"
   ]
  },
  {
   "cell_type": "code",
   "execution_count": 11,
   "id": "d1e0c189-521a-4512-8ba1-d819722438b2",
   "metadata": {},
   "outputs": [
    {
     "name": "stdout",
     "output_type": "stream",
     "text": [
      "+---+\n",
      "|Sum|\n",
      "+---+\n",
      "|500|\n",
      "+---+\n",
      "\n",
      "+--------------+---------------------+\n",
      "|Marital Status|((count / 500) * 100)|\n",
      "+--------------+---------------------+\n",
      "|        SINGLE|                 29.2|\n",
      "|       MARRIED|                 70.8|\n",
      "+--------------+---------------------+\n",
      "\n"
     ]
    }
   ],
   "source": [
    "#Marital Status Distribution: Percentage of married vs. single customers.\n",
    "marital_per = loan_df.groupBy(\"Marital Status\").count()\n",
    "marital_per.select(sum(\"count\").alias(\"Sum\")).show()\n",
    "marital_per.select(col(\"Marital Status\"),col(\"count\") / 500 * 100).show()"
   ]
  },
  {
   "cell_type": "code",
   "execution_count": 12,
   "id": "60775597-6bec-44a7-aa6e-d75388dbd08e",
   "metadata": {},
   "outputs": [
    {
     "name": "stdout",
     "output_type": "stream",
     "text": [
      "+---------------------+--------------+-------------------+\n",
      "|Occupation           |Marital Status|Average_Family_size|\n",
      "+---------------------+--------------+-------------------+\n",
      "|ACCOUNT MANAGER      |MARRIED       |4.73               |\n",
      "|ACCOUNTANT           |SINGLE        |5.5                |\n",
      "|ACCOUNTANT           |MARRIED       |4.33               |\n",
      "|AGRICULTURAL ENGINEER|SINGLE        |6.0                |\n",
      "|AGRICULTURAL ENGINEER|MARRIED       |3.4                |\n",
      "|AIRPORT OFFICER      |SINGLE        |4.0                |\n",
      "|AIRPORT OFFICER      |MARRIED       |6.23               |\n",
      "|ARMY                 |MARRIED       |5.0                |\n",
      "|ARMY                 |SINGLE        |6.0                |\n",
      "|ASSISTANT MANAGER    |MARRIED       |6.17               |\n",
      "|ASSISTANT PROFESSOR  |MARRIED       |4.89               |\n",
      "|BANK MANAGER         |SINGLE        |4.5                |\n",
      "|BANK MANAGER         |MARRIED       |4.86               |\n",
      "|BUSINESS             |SINGLE        |5.0                |\n",
      "|BUSINESS             |MARRIED       |4.31               |\n",
      "|CHARTERED APPRAISER  |SINGLE        |4.0                |\n",
      "|CHARTERED APPRAISER  |MARRIED       |4.0                |\n",
      "|CIVIL ENGINEER       |MARRIED       |4.83               |\n",
      "|CLERK                |SINGLE        |4.67               |\n",
      "|CLERK                |MARRIED       |4.26               |\n",
      "+---------------------+--------------+-------------------+\n",
      "only showing top 20 rows\n",
      "\n",
      "+---------------------+-------------------+\n",
      "|Occupation           |Average_Family_size|\n",
      "+---------------------+-------------------+\n",
      "|ACCOUNT MANAGER      |4.73               |\n",
      "|ACCOUNTANT           |5.0                |\n",
      "|AGRICULTURAL ENGINEER|4.38               |\n",
      "|AIRPORT OFFICER      |5.93               |\n",
      "|ARMY                 |5.4                |\n",
      "|ASSISTANT MANAGER    |6.17               |\n",
      "|ASSISTANT PROFESSOR  |4.89               |\n",
      "|BANK MANAGER         |4.79               |\n",
      "|BUSINESS             |4.44               |\n",
      "|CHARTERED APPRAISER  |4.0                |\n",
      "|CIVIL ENGINEER       |4.83               |\n",
      "|CLERK                |4.31               |\n",
      "|CORPORATE OFFICER    |2.67               |\n",
      "|DATA ANALYST         |3.88               |\n",
      "|DATA ENGINEER        |4.71               |\n",
      "|DENTIST              |5.0                |\n",
      "|DIETICIAN            |3.85               |\n",
      "|DOCTOR               |4.52               |\n",
      "|DRIVER               |4.61               |\n",
      "|ELECTRICIAN          |3.25               |\n",
      "+---------------------+-------------------+\n",
      "only showing top 20 rows\n",
      "\n",
      "+--------------+-------------------+\n",
      "|Marital Status|Average_Family_size|\n",
      "+--------------+-------------------+\n",
      "|MARRIED       |4.69               |\n",
      "|SINGLE        |4.21               |\n",
      "+--------------+-------------------+\n",
      "\n"
     ]
    }
   ],
   "source": [
    "#Family Size Distribution: Average family size across different customer groups.\n",
    "\n",
    "loan_df.groupBy(\"Occupation\",\"Marital Status\").agg(round(avg(\"Family Size\"),2).alias(\"Average_Family_size\")).orderBy(\"Occupation\").show(truncate=False)\n",
    "\n",
    "#Chat Gpt Answers\n",
    "loan_df.groupBy(\"Occupation\").agg(round(avg(\"Family Size\"),2).alias(\"Average_Family_size\")).orderBy(\"Occupation\").show(truncate=False)\n",
    "loan_df.groupBy(\"Marital Status\").agg(round(avg(\"Family Size\"),2).alias(\"Average_Family_size\")).orderBy(\"Marital Status\").show(truncate=False)\n",
    "\n"
   ]
  },
  {
   "cell_type": "markdown",
   "id": "830ff8e1-698a-43ac-8495-af0069852c80",
   "metadata": {
    "jp-MarkdownHeadingCollapsed": true
   },
   "source": [
    "#### 2. Financial Overview"
   ]
  },
  {
   "cell_type": "code",
   "execution_count": 14,
   "id": "72b0707b-9041-47b4-894d-52d0bce03df2",
   "metadata": {},
   "outputs": [
    {
     "name": "stdout",
     "output_type": "stream",
     "text": [
      "+-----------------+\n",
      "|   Average_Income|\n",
      "+-----------------+\n",
      "|68339.49145299145|\n",
      "+-----------------+\n",
      "\n"
     ]
    }
   ],
   "source": [
    "#Average Monthly Income: Compute the average income of customers.\n",
    "loan_df.select(avg(\"Income\").alias(\"Average_Income\")).show()"
   ]
  },
  {
   "cell_type": "code",
   "execution_count": 15,
   "id": "27396251-7f07-4fa3-8b79-993f0d55e7b4",
   "metadata": {},
   "outputs": [
    {
     "name": "stdout",
     "output_type": "stream",
     "text": [
      "+---------------------------+\n",
      "|Average_Monthly_Expenditure|\n",
      "+---------------------------+\n",
      "|                   27533.18|\n",
      "+---------------------------+\n",
      "\n",
      "+-----------+----------------------------------+\n",
      "|Family Size|Average_Expenditure_By_Family_Size|\n",
      "+-----------+----------------------------------+\n",
      "|          2|                          30383.33|\n",
      "|          3|                          25790.01|\n",
      "|          4|                          25633.58|\n",
      "|          5|                          25842.11|\n",
      "|          6|                           30232.2|\n",
      "|          7|                           28854.2|\n",
      "+-----------+----------------------------------+\n",
      "\n",
      "+------------------+-------------------------------+\n",
      "|     Loan Category|Average_Expenditure_By_Load_Cat|\n",
      "+------------------+-------------------------------+\n",
      "|       AGRICULTURE|                        30573.5|\n",
      "|        AUTOMOBILE|                       26787.66|\n",
      "|       BOOK STORES|                        21221.0|\n",
      "|          BUILDING|                       36014.86|\n",
      "|          BUSINESS|                        31431.0|\n",
      "|COMPUTER SOFTWARES|                       26157.36|\n",
      "|           DINNING|                       27934.29|\n",
      "|  EDUCATIONAL LOAN|                        31088.6|\n",
      "|       ELECTRONICS|                       26123.46|\n",
      "|         GOLD LOAN|                       26168.62|\n",
      "|   HOME APPLIANCES|                       27622.38|\n",
      "|           HOUSING|                       29052.67|\n",
      "|        RESTAURANT|                       30609.75|\n",
      "|       RESTAURANTS|                        25398.0|\n",
      "|          SHOPPING|                       26654.27|\n",
      "|        TRAVELLING|                       26211.13|\n",
      "+------------------+-------------------------------+\n",
      "\n",
      "+------+-----------------------------+\n",
      "|Gender|Average_Expenditure_By_Gender|\n",
      "+------+-----------------------------+\n",
      "|  MALE|                     27626.55|\n",
      "|FEMALE|                     27409.59|\n",
      "+------+-----------------------------+\n",
      "\n",
      "+--------------+-------------------------------------+\n",
      "|Marital Status|Average_Expenditure_By_MaritalStatues|\n",
      "+--------------+-------------------------------------+\n",
      "|        SINGLE|                             28275.01|\n",
      "|       MARRIED|                             27225.54|\n",
      "+--------------+-------------------------------------+\n",
      "\n"
     ]
    }
   ],
   "source": [
    "#Average Monthly Expenditure: Analyze spending patterns by calculating the average expenditure.\n",
    "\n",
    "# Average Monthly Expenditure\n",
    "loan_df.select(round(avg(\"Expenditure\"),2).alias(\"Average_Monthly_Expenditure\")).show()\n",
    "\n",
    "# Average expenditure by Family size\n",
    "loan_df.groupBy(\"Family Size\").agg(round(avg(\"Expenditure\"),2).alias(\"Average_Expenditure_By_Family_Size\")).orderBy(\"Family Size\").show()\n",
    "\n",
    "#average expenditure by Loan Category\n",
    "loan_df.groupBy(\"Loan Category\").agg(round(avg(\"Expenditure\"),2).alias(\"Average_Expenditure_By_Load_Cat\")).orderBy(\"Loan Category\").show()\n",
    "\n",
    "\n",
    "\n",
    "# ChatGpt \n",
    "#average expenditure by gender \n",
    "loan_df.groupBy(\"Gender\").agg(round(avg(\"Expenditure\"),2).alias(\"Average_Expenditure_By_Gender\")).show()\n",
    "\n",
    "#average expenditure by Marital Status  \n",
    "loan_df.groupBy(\"Marital Status\").agg(round(avg(\"Expenditure\"),2).alias(\"Average_Expenditure_By_MaritalStatues\")).show()\n",
    "\n"
   ]
  },
  {
   "cell_type": "code",
   "execution_count": 16,
   "id": "172e6c0a-602d-42e9-9064-79245ab7ef9e",
   "metadata": {},
   "outputs": [
    {
     "name": "stdout",
     "output_type": "stream",
     "text": [
      "+-----------+-------+------------+-----------+------------------+-----------+------+---------+---------------------+\n",
      "|Customer_ID|Overdue| Debt Record|Loan Amount|     Loan Category|Expenditure|Income|Ratio_E/I|over-leveraged_Status|\n",
      "+-----------+-------+------------+-----------+------------------+-----------+------+---------+---------------------+\n",
      "|    IB14001|      5|      42,898| 10,00,000 |           HOUSING|      22199| 50000|     0.44|                   No|\n",
      "|    IB14008|      3|      33,999|     50,000|          SHOPPING|      19999| 51000|     0.39|                   No|\n",
      "|    IB14012|      6|      20,876|     75,000|        TRAVELLING|      27675| 58450|     0.47|                   No|\n",
      "|    IB14018|      7|      11,000|  6,00,000 |         GOLD LOAN|      12787| 45767|     0.28|                   No|\n",
      "|    IB14022|      2|      43,898|  2,00,000 |        AUTOMOBILE|      11999| 43521|     0.28|                   No|\n",
      "|    IB14024|      1|      50,000|     47,787|        AUTOMOBILE|      19888| 34999|     0.57|                  Yes|\n",
      "|    IB14025|      8|      29,999| 12,09,867 |           HOUSING|      18675| 46619|      0.4|                   No|\n",
      "|    IB14027|      8|      13,000|     60,676|       RESTAURANTS|      19111| 49999|     0.38|                   No|\n",
      "|    IB14029|      9|      51,987|  3,99,435 |        AUTOMOBILE|      17454| 45008|     0.39|                   No|\n",
      "|    IB14031|      2|           0|     60,999|        AUTOMOBILE|      23999| 55999|     0.43|                   No|\n",
      "|    IB14032|      5|      33,333|     35,232|        AUTOMOBILE|      28999| 60111|     0.48|                   No|\n",
      "|    IB14034|      6|       4,500|     80,660|COMPUTER SOFTWARES|      29000|  NULL|     NULL|                   No|\n",
      "|    IB14037|      1|      12,000|     30,999|       RESTAURANTS|      19999| 48099|     0.42|                   No|\n",
      "|    IB14039|      7|      39,999|  9,87,611 |         GOLD LOAN|      18452| 45777|      0.4|                   No|\n",
      "|    IB14041|      3|       9,000|  5,99,934 |  EDUCATIONAL LOAN|      22999| 50999|     0.45|                   No|\n",
      "|    IB14042|      4|      18,000| 12,90,929 |        TRAVELLING|      27111| 60111|     0.45|                   No|\n",
      "|    IB14045|      1|       4,500|  1,67,654 |       BOOK STORES|      11999| 40999|     0.29|                   No|\n",
      "|    IB14049|      4|       6,700|     79,999|        TRAVELLING|      14500| 45999|     0.32|                   No|\n",
      "|    IB14050|      6|      19,999| 10,65,577 |           HOUSING|      13999|  NULL|     NULL|                   No|\n",
      "|    IB14054|      5|      21,000|  9,00,000 |           HOUSING|      25000| 60000|     0.42|                   No|\n",
      "+-----------+-------+------------+-----------+------------------+-----------+------+---------+---------------------+\n",
      "only showing top 20 rows\n",
      "\n"
     ]
    }
   ],
   "source": [
    "#Income-Expenditure Ratio: (Expenditure / Income) to identify over-leveraged customers.\n",
    "Over_leveraged = loan_df.select(\"Customer_ID\",\"Overdue\",\" Debt Record\",\"Loan Amount\",\"Loan Category\",\"Expenditure\",\"Income\",\n",
    "                                round(col(\"Expenditure\")/col(\"Income\"),2).alias(\"Ratio_E/I\"))\n",
    "\n",
    "#ChatGpt \n",
    "Over_leveraged.withColumn(\"over-leveraged_Status\",when(col(\"Ratio_E/I\")> 0.5,\"Yes\").otherwise(\"No\")).show()\n"
   ]
  },
  {
   "cell_type": "code",
   "execution_count": 17,
   "id": "39dc0fb6-6836-49ce-8da5-a69737c252f9",
   "metadata": {},
   "outputs": [
    {
     "name": "stdout",
     "output_type": "stream",
     "text": [
      "+--------------------+--------------+\n",
      "|          Occupation|Average_Income|\n",
      "+--------------------+--------------+\n",
      "|     ACCOUNT MANAGER|      339097.0|\n",
      "|        BANK MANAGER|       92191.0|\n",
      "|AGRICULTURAL ENGI...|       82061.0|\n",
      "|               PILOT|       81975.0|\n",
      "|                ARMY|       78883.0|\n",
      "+--------------------+--------------+\n",
      "\n"
     ]
    }
   ],
   "source": [
    "#Top 5 Professions by Income: List the professions with the highest average income.\n",
    "\n",
    "loan_df.groupBy(\"Occupation\").agg(round(avg(\"Income\")).alias(\"Average_Income\")).orderBy(col(\"Average_Income\").desc()).limit(5).show()\n"
   ]
  },
  {
   "cell_type": "markdown",
   "id": "b77a1ede-1f35-4a5e-a25a-54f260839871",
   "metadata": {
    "jp-MarkdownHeadingCollapsed": true
   },
   "source": [
    "#### 3. Loan Analysis"
   ]
  },
  {
   "cell_type": "code",
   "execution_count": 19,
   "id": "ab6ff4b6-0f57-46d6-bd63-a42f45377bc0",
   "metadata": {},
   "outputs": [
    {
     "name": "stdout",
     "output_type": "stream",
     "text": [
      "+------------------+--------------+\n",
      "|     Loan Category|Customer_Count|\n",
      "+------------------+--------------+\n",
      "|         GOLD LOAN|            77|\n",
      "|           HOUSING|            67|\n",
      "|        AUTOMOBILE|            60|\n",
      "|        TRAVELLING|            53|\n",
      "|       RESTAURANTS|            41|\n",
      "|COMPUTER SOFTWARES|            35|\n",
      "|          SHOPPING|            35|\n",
      "|          BUSINESS|            24|\n",
      "|  EDUCATIONAL LOAN|            20|\n",
      "|        RESTAURANT|            20|\n",
      "|           DINNING|            14|\n",
      "|       ELECTRONICS|            14|\n",
      "|   HOME APPLIANCES|            14|\n",
      "|       AGRICULTURE|            12|\n",
      "|       BOOK STORES|             7|\n",
      "|          BUILDING|             7|\n",
      "+------------------+--------------+\n",
      "\n"
     ]
    }
   ],
   "source": [
    "#Most Popular Loan Categories: Count the number of customers per loan category.\n",
    "\n",
    "loan_df.groupby(\"Loan Category\").agg(count(\"Customer_ID\").alias(\"Customer_Count\")).orderBy(col(\"Customer_Count\").desc()).show()"
   ]
  },
  {
   "cell_type": "code",
   "execution_count": 20,
   "id": "63ad4da6-07e2-439a-91c9-aae6d50b15be",
   "metadata": {},
   "outputs": [
    {
     "name": "stdout",
     "output_type": "stream",
     "text": [
      "+------------------+---------------+\n",
      "|     Loan Category|Avg_Loan_Amount|\n",
      "+------------------+---------------+\n",
      "|COMPUTER SOFTWARES|       994596.0|\n",
      "|          BUSINESS|       973682.0|\n",
      "|       AGRICULTURE|       965852.0|\n",
      "|        AUTOMOBILE|       942383.0|\n",
      "|         GOLD LOAN|       921967.0|\n",
      "|  EDUCATIONAL LOAN|       919711.0|\n",
      "|           HOUSING|       900688.0|\n",
      "|        TRAVELLING|       690735.0|\n",
      "|           DINNING|       654846.0|\n",
      "|       ELECTRONICS|       640744.0|\n",
      "|       RESTAURANTS|       609921.0|\n",
      "|        RESTAURANT|       586462.0|\n",
      "|   HOME APPLIANCES|       562852.0|\n",
      "|          BUILDING|       541720.0|\n",
      "|       BOOK STORES|       525950.0|\n",
      "|          SHOPPING|       447012.0|\n",
      "+------------------+---------------+\n",
      "\n"
     ]
    }
   ],
   "source": [
    "#Average Loan Amount by Category: Compute the average loan amount for each loan type.\n",
    "loan_df = loan_df.withColumn(\"Loan Amount\",regexp_replace(\"Loan Amount\",\"[,]\",''))\\\n",
    "                    .withColumn(\"Loan Amount\",col(\"Loan Amount\").cast(\"integer\"))\n",
    "\n",
    "loan_df.groupBy(\"Loan Category\").agg(round(avg(\"Loan Amount\")).alias(\"Avg_Loan_Amount\")).orderBy(col(\"Avg_Loan_Amount\").desc()).show()"
   ]
  },
  {
   "cell_type": "code",
   "execution_count": 21,
   "id": "652fad6c-313e-477b-bcc1-f662809b8d16",
   "metadata": {},
   "outputs": [
    {
     "name": "stdout",
     "output_type": "stream",
     "text": [
      "+-----------+-----------+------+-----------------+\n",
      "|Customer_ID|Loan Amount|Income|Ratio_LA/I_montly|\n",
      "+-----------+-----------+------+-----------------+\n",
      "|    IB14001|    1000000| 50000|             20.0|\n",
      "|    IB14008|      50000| 51000|             0.98|\n",
      "|    IB14012|      75000| 58450|             1.28|\n",
      "|    IB14018|     600000| 45767|            13.11|\n",
      "|    IB14022|     200000| 43521|              4.6|\n",
      "|    IB14024|      47787| 34999|             1.37|\n",
      "|    IB14025|    1209867| 46619|            25.95|\n",
      "|    IB14027|      60676| 49999|             1.21|\n",
      "|    IB14029|     399435| 45008|             8.87|\n",
      "|    IB14031|      60999| 55999|             1.09|\n",
      "|    IB14032|      35232| 60111|             0.59|\n",
      "|    IB14034|      80660|  NULL|             NULL|\n",
      "|    IB14037|      30999| 48099|             0.64|\n",
      "|    IB14039|     987611| 45777|            21.57|\n",
      "|    IB14041|     599934| 50999|            11.76|\n",
      "|    IB14042|    1290929| 60111|            21.48|\n",
      "|    IB14045|     167654| 40999|             4.09|\n",
      "|    IB14049|      79999| 45999|             1.74|\n",
      "|    IB14050|    1065577|  NULL|             NULL|\n",
      "|    IB14054|     900000| 60000|             15.0|\n",
      "+-----------+-----------+------+-----------------+\n",
      "only showing top 20 rows\n",
      "\n"
     ]
    }
   ],
   "source": [
    "#Loan Utilization Rate: Ratio of Loan Amount to Income for all customers.\n",
    "loan_df.select(\"Customer_ID\",\"Loan Amount\",\"Income\",\n",
    "                                round(col(\"Loan Amount\")/col(\"Income\"),2).alias(\"Ratio_LA/I_montly\")).show()"
   ]
  },
  {
   "cell_type": "code",
   "execution_count": 22,
   "id": "d98fc69e-1670-4868-a653-3bf767453df5",
   "metadata": {},
   "outputs": [
    {
     "data": {
      "text/plain": [
       "130"
      ]
     },
     "execution_count": 22,
     "metadata": {},
     "output_type": "execute_result"
    }
   ],
   "source": [
    "#High Loan Amount Customers: Count of customers with loans exceeding ₹10,00,000.\n",
    "loan_df.filter(col(\"Loan Amount\")>1000000).count()\n"
   ]
  },
  {
   "cell_type": "code",
   "execution_count": null,
   "id": "47670cd7-72c7-4195-98db-a7d22d47cfec",
   "metadata": {},
   "outputs": [],
   "source": []
  },
  {
   "cell_type": "markdown",
   "id": "d720d019-555c-458d-8997-0b9f4a32f17c",
   "metadata": {
    "jp-MarkdownHeadingCollapsed": true
   },
   "source": [
    "#### 4. Risk Assessment"
   ]
  },
  {
   "cell_type": "code",
   "execution_count": 24,
   "id": "920ca836-6283-4632-a2e3-6f68a6798ea3",
   "metadata": {},
   "outputs": [
    {
     "name": "stdout",
     "output_type": "stream",
     "text": [
      "+------------+\n",
      "|avg(Overdue)|\n",
      "+------------+\n",
      "|       4.974|\n",
      "+------------+\n",
      "\n"
     ]
    }
   ],
   "source": [
    "#Average Overdue Payments: Mean of the Overdue column.\n",
    "\n",
    "loan_df.select(mean(\"Overdue\")).show()\n"
   ]
  },
  {
   "cell_type": "code",
   "execution_count": 25,
   "id": "12e2db9f-2c54-49fa-80ae-9a7d045be27d",
   "metadata": {},
   "outputs": [
    {
     "name": "stdout",
     "output_type": "stream",
     "text": [
      "+-----------+---+------+-----------------+--------------+-----------+------+-----------+-------------+------------------+-----------+-------+------------+----------------+------------------+\n",
      "|Customer_ID|Age|Gender|       Occupation|Marital Status|Family Size|Income|Expenditure|Use Frequency|     Loan Category|Loan Amount|Overdue| Debt Record| Returned Cheque| Dishonour of Bill|\n",
      "+-----------+---+------+-----------------+--------------+-----------+------+-----------+-------------+------------------+-----------+-------+------------+----------------+------------------+\n",
      "|    IB14012| 30|FEMALE|          DENTIST|        SINGLE|          3| 58450|      27675|            5|        TRAVELLING|      75000|      6|      20,876|               3|                 1|\n",
      "|    IB14018| 29|  MALE|          TEACHER|       MARRIED|          5| 45767|      12787|            3|         GOLD LOAN|     600000|      7|      11,000|               0|                 4|\n",
      "|    IB14025| 39|FEMALE|          TEACHER|       MARRIED|          6| 46619|      18675|            4|           HOUSING|    1209867|      8|      29,999|               6|                 8|\n",
      "|    IB14027| 51|  MALE|   SYSTEM MANAGER|       MARRIED|          3| 49999|      19111|            5|       RESTAURANTS|      60676|      8|      13,000|               2|                 5|\n",
      "|    IB14029| 24|FEMALE|          TEACHER|        SINGLE|          3| 45008|      17454|            4|        AUTOMOBILE|     399435|      9|      51,987|               4|                 7|\n",
      "|    IB14034| 32|  MALE| PRODUCT ENGINEER|       MARRIED|          6|  NULL|      29000|            7|COMPUTER SOFTWARES|      80660|      6|       4,500|               5|                 4|\n",
      "|    IB14039| 45|  MALE|  ACCOUNT MANAGER|       MARRIED|          7| 45777|      18452|            4|         GOLD LOAN|     987611|      7|      39,999|               8|                 1|\n",
      "|    IB14050| 56|  MALE|   CIVIL ENGINEER|       MARRIED|          4|  NULL|      13999|            3|           HOUSING|    1065577|      6|      19,999|               4|                 2|\n",
      "|    IB14057| 25|  MALE|  AIRPORT OFFICER|        SINGLE|          4| 40000|      18888|            3|       RESTAURANTS|     400000|      8|      11,111|               1|                 7|\n",
      "|    IB14070| 40|  MALE|     PUBLIC WORKS|       MARRIED|          4| 38000|      20000|            3|         GOLD LOAN|     400000|      9|      19,954|               3|                 2|\n",
      "|    IB14086| 51|FEMALE|       TECHNICIAN|       MARRIED|          5| 30000|       NULL|            5|       RESTAURANTS|     125463|      7|      52,634|               4|                10|\n",
      "|    IB14089| 25|  MALE|        PROFESSOR|        SINGLE|          5| 62145|      31254|            4|       BOOK STORES|    1245789|      6|      48,596|               6|                 5|\n",
      "|    1B14093| 21|FEMALE|          MANAGER|        SINGLE|          3| 42516|      24567|            7|        AUTOMOBILE|    2569874|      8|      89,652|               2|                 3|\n",
      "|    IB14106| 29|  MALE|  FIRE DEPARTMENT|       MARRIED|          5| 45213|      32457|            9|        TRAVELLING|    1524789|      7|      90,000|               2|                 5|\n",
      "|    IB14109| 56|  MALE|           DRIVER|       MARRIED|          5| 30000|      15426|            7|        TRAVELLING|     921456|      6|      20,000|               4|                 6|\n",
      "|    IB14113| 49|  MALE|ASSISTANT MANAGER|       MARRIED|          7| 45612|      39542|            3|          SHOPPING|     587412|      7|      65,412|               3|                 2|\n",
      "|    IB14120| 47|FEMALE|          TEACHER|       MARRIED|          3| 50000|      42563|            4|       RESTAURANTS|     654120|      6|      45,127|               2|                 3|\n",
      "|    IB14123| 36|  MALE|      ELECTRICIAN|       MARRIED|          2| 36985|      25648|            6|        AUTOMOBILE|     985413|      7|      20,000|               5|                 3|\n",
      "|    IB14126| 57|  MALE|  FIRE DEPARTMENT|       MARRIED|          5| 54123|       NULL|            7|       RESTAURANTS|     412365|      6|      18,524|               2|                 1|\n",
      "|    IB14130| 43|  MALE| PRODUCT ENGINEER|       MARRIED|          4| 50147|      45863|            8|COMPUTER SOFTWARES|     785241|      8|      19,999|               3|                 5|\n",
      "+-----------+---+------+-----------------+--------------+-----------+------+-----------+-------------+------------------+-----------+-------+------------+----------------+------------------+\n",
      "only showing top 20 rows\n",
      "\n"
     ]
    }
   ],
   "source": [
    "#High-Risk Customers:Customers with Overdue > 5 or Debt Record > ₹50,000.\n",
    "#loan_df.withColumn(\"Risk\",when(((col(\"Overdue\")>5)|(col(\" Debt Record\")>50000)),\"High\").otherwise(\"Low\")).show()\n",
    "\n",
    "loan_df.filter((col(\"Overdue\")>5)|(col(\" Debt Record\")>50000)).show()"
   ]
  },
  {
   "cell_type": "code",
   "execution_count": 26,
   "id": "c4358a4c-4573-4fc2-8462-699d3c509a3c",
   "metadata": {},
   "outputs": [
    {
     "name": "stdout",
     "output_type": "stream",
     "text": [
      "+-----------+---+------+-------------------+--------------+-----------+------+-----------+-------------+----------------+-----------+-------+------------+----------------+------------------+\n",
      "|Customer_ID|Age|Gender|         Occupation|Marital Status|Family Size|Income|Expenditure|Use Frequency|   Loan Category|Loan Amount|Overdue| Debt Record| Returned Cheque| Dishonour of Bill|\n",
      "+-----------+---+------+-------------------+--------------+-----------+------+-----------+-------------+----------------+-----------+-------+------------+----------------+------------------+\n",
      "|    IB14001| 30|  MALE|       BANK MANAGER|        SINGLE|          4| 50000|      22199|            6|         HOUSING|    1000000|      5|      42,898|               6|                 9|\n",
      "|    IB14025| 39|FEMALE|            TEACHER|       MARRIED|          6| 46619|      18675|            4|         HOUSING|    1209867|      8|      29,999|               6|                 8|\n",
      "|    IB14029| 24|FEMALE|            TEACHER|        SINGLE|          3| 45008|      17454|            4|      AUTOMOBILE|     399435|      9|      51,987|               4|                 7|\n",
      "|    IB14037| 54|FEMALE|            TEACHER|       MARRIED|          5| 48099|      19999|            4|     RESTAURANTS|      30999|      1|      12,000|               7|                 5|\n",
      "|    IB14039| 45|  MALE|    ACCOUNT MANAGER|       MARRIED|          7| 45777|      18452|            4|       GOLD LOAN|     987611|      7|      39,999|               8|                 1|\n",
      "|    IB14041| 59|FEMALE|ASSISTANT PROFESSOR|       MARRIED|          4| 50999|      22999|            5|EDUCATIONAL LOAN|     599934|      3|       9,000|               9|                 9|\n",
      "|    IB14049| 49|  MALE|       BANK MANAGER|       MARRIED|          4| 45999|      14500|            4|      TRAVELLING|      79999|      4|       6,700|               7|                 3|\n",
      "|    IB14054| 58|FEMALE|             DOCTOR|       MARRIED|          5| 60000|      25000|            5|         HOUSING|     900000|      5|      21,000|               9|                 0|\n",
      "|    IB14057| 25|  MALE|    AIRPORT OFFICER|        SINGLE|          4| 40000|      18888|            3|     RESTAURANTS|     400000|      8|      11,111|               1|                 7|\n",
      "|    IB14060| 36|FEMALE|              CLERK|       MARRIED|          4| 35000|      15000|            3|         HOUSING|     300000|      2|       5,600|               4|                 8|\n",
      "|    IB14086| 51|FEMALE|         TECHNICIAN|       MARRIED|          5| 30000|       NULL|            5|     RESTAURANTS|     125463|      7|      52,634|               4|                10|\n",
      "|    IB14089| 25|  MALE|          PROFESSOR|        SINGLE|          5| 62145|      31254|            4|     BOOK STORES|    1245789|      6|      48,596|               6|                 5|\n",
      "|    IB14101| 33|FEMALE|   PRODUCT ENGINEER|       MARRIED|          5|  NULL|      45812|            5|      AUTOMOBILE|     852416|      4|      17,524|               6|                 3|\n",
      "|    IB14109| 56|  MALE|             DRIVER|       MARRIED|          5| 30000|      15426|            7|      TRAVELLING|     921456|      6|      20,000|               4|                 6|\n",
      "|    IB14145| 45|FEMALE|              CLERK|       MARRIED|          5| 40560|      38789|            6|      TRAVELLING|     785000|      6|      29,650|               6|                 7|\n",
      "|    IBI4148| 46|  MALE|     SYSTEM OFFICER|       MARRIED|          5| 56780|      24560|            5|       GOLD LOAN|     854000|      6|      23,700|               6|                 4|\n",
      "|    IBI4155| 24|FEMALE|  SOFTWARE ENGINEER|        SINGLE|          4| 55680|      29000|            5|      AUTOMOBILE|     789000|      5|      24,000|               6|                 4|\n",
      "|    IB14164| 56|  MALE|             DRIVER|       MARRIED|          5| 30000|      15426|            7|      TRAVELLING|     921456|      6|      20,000|               4|                 6|\n",
      "|    IB14173| 33|FEMALE|   PRODUCT ENGINEER|       MARRIED|          5|  NULL|      45812|            5|        SHOPPING|     852416|      4|      17,524|               6|                 3|\n",
      "|    IB14179| 24|FEMALE|            TEACHER|        SINGLE|          3| 45008|      17454|            4|      AUTOMOBILE|     399435|      9|      51,987|               4|                 7|\n",
      "+-----------+---+------+-------------------+--------------+-----------+------+-----------+-------------+----------------+-----------+-------+------------+----------------+------------------+\n",
      "only showing top 20 rows\n",
      "\n"
     ]
    }
   ],
   "source": [
    "#Customers with a high number of Returned Cheques or Dishonour of Bills.\n",
    "\n",
    "loan_df.filter((col(\" Dishonour of Bill\")>5)|(col(\" Returned Cheque\")>5)).show()\n"
   ]
  },
  {
   "cell_type": "code",
   "execution_count": 27,
   "id": "7ccd047e-4734-4ebb-805e-fcbb306a5a89",
   "metadata": {
    "scrolled": true
   },
   "outputs": [
    {
     "name": "stdout",
     "output_type": "stream",
     "text": [
      "+-----------------+\n",
      "|Debt_Burden_Ratio|\n",
      "+-----------------+\n",
      "|             23.0|\n",
      "|              1.0|\n",
      "|              4.0|\n",
      "|             55.0|\n",
      "|              5.0|\n",
      "|              1.0|\n",
      "|             40.0|\n",
      "|              5.0|\n",
      "|              8.0|\n",
      "|             NULL|\n",
      "|              1.0|\n",
      "|             18.0|\n",
      "|              3.0|\n",
      "|             25.0|\n",
      "|             67.0|\n",
      "|             72.0|\n",
      "|             37.0|\n",
      "|             12.0|\n",
      "|             53.0|\n",
      "|             43.0|\n",
      "+-----------------+\n",
      "only showing top 20 rows\n",
      "\n"
     ]
    }
   ],
   "source": [
    "#Debt Burden Ratio: (Debt Record / Loan Amount).\n",
    "\n",
    "loan_df = loan_df.withColumn(\" Debt Record\",regexp_replace(\" Debt Record\",\"[,]\",''))\\\n",
    "                    .withColumn(\" Debt Record\",col(\" Debt Record\").cast(\"integer\"))\n",
    "\n",
    "loan_df.select(round(col(\"Loan Amount\")/col(\" Debt Record\")).alias(\"Debt_Burden_Ratio\")).show()\n"
   ]
  },
  {
   "cell_type": "markdown",
   "id": "e81df4a7-0dc6-434f-954e-dd1d72665145",
   "metadata": {
    "jp-MarkdownHeadingCollapsed": true
   },
   "source": [
    "#### 5. Customer Behavior"
   ]
  },
  {
   "cell_type": "code",
   "execution_count": 29,
   "id": "caa0e9a9-a09d-4ea3-993a-d1d2695b9876",
   "metadata": {},
   "outputs": [
    {
     "name": "stdout",
     "output_type": "stream",
     "text": [
      "+-----------------------+\n",
      "|Average_usage_frequency|\n",
      "+-----------------------+\n",
      "|                   5.33|\n",
      "+-----------------------+\n",
      "\n"
     ]
    }
   ],
   "source": [
    "#Use Frequency Analysis: Average usage frequency across all customers.\n",
    "loan_df.select(avg(\"Use Frequency\").alias(\"Average_usage_frequency\")).show()\n"
   ]
  },
  {
   "cell_type": "code",
   "execution_count": 30,
   "id": "017363f3-f714-41f2-aee8-27834ea34a1c",
   "metadata": {},
   "outputs": [
    {
     "name": "stdout",
     "output_type": "stream",
     "text": [
      "+------------------+-----------------------+\n",
      "|     Loan Category|Average_usage_frequency|\n",
      "+------------------+-----------------------+\n",
      "|          BUILDING|                    7.0|\n",
      "|        TRAVELLING|                    6.0|\n",
      "|       AGRICULTURE|                    6.0|\n",
      "|COMPUTER SOFTWARES|                    6.0|\n",
      "|       ELECTRONICS|                    6.0|\n",
      "|        RESTAURANT|                    6.0|\n",
      "|           HOUSING|                    5.0|\n",
      "|         GOLD LOAN|                    5.0|\n",
      "|  EDUCATIONAL LOAN|                    5.0|\n",
      "|        AUTOMOBILE|                    5.0|\n",
      "|          BUSINESS|                    5.0|\n",
      "|           DINNING|                    5.0|\n",
      "|          SHOPPING|                    5.0|\n",
      "|       RESTAURANTS|                    5.0|\n",
      "|   HOME APPLIANCES|                    5.0|\n",
      "|       BOOK STORES|                    4.0|\n",
      "+------------------+-----------------------+\n",
      "\n",
      "+-----------------+-----------------------+\n",
      "|       Occupation|Average_usage_frequency|\n",
      "+-----------------+-----------------------+\n",
      "|  FIRE DEPARTMENT|                    7.0|\n",
      "|       ACCOUNTANT|                    7.0|\n",
      "|         BUSINESS|                    7.0|\n",
      "|          MANAGER|                    7.0|\n",
      "|     DATA ANALYST|                    7.0|\n",
      "|     BANK MANAGER|                    6.0|\n",
      "|        DIETICIAN|                    6.0|\n",
      "|SOFTWARE ENGINEER|                    6.0|\n",
      "|           FARMER|                    6.0|\n",
      "|           DRIVER|                    6.0|\n",
      "|      ELECTRICIAN|                    6.0|\n",
      "|          DENTIST|                    6.0|\n",
      "|   SYSTEM MANAGER|                    6.0|\n",
      "|  ACCOUNT MANAGER|                    6.0|\n",
      "| PRODUCT ENGINEER|                    6.0|\n",
      "|   CIVIL ENGINEER|                    5.0|\n",
      "|   SYSTEM OFFICER|                    5.0|\n",
      "|        NUTRITION|                    5.0|\n",
      "|            CLERK|                    5.0|\n",
      "|          TEACHER|                    5.0|\n",
      "+-----------------+-----------------------+\n",
      "only showing top 20 rows\n",
      "\n"
     ]
    }
   ],
   "source": [
    "#Top 5 Customer Segments by Use Frequency: Group by Loan Category or Occupation and compute average usage frequency.\n",
    "\n",
    "loan_df.groupBy(\"Loan Category\").agg(round(avg(\"Use Frequency\")).alias(\"Average_usage_frequency\")).orderBy(col(\"Average_usage_frequency\").desc()).show()\n",
    "\n",
    "loan_df.groupBy(\"Occupation\").agg(round(avg(\"Use Frequency\")).alias(\"Average_usage_frequency\")).orderBy(col(\"Average_usage_frequency\").desc()).show()"
   ]
  },
  {
   "cell_type": "code",
   "execution_count": 31,
   "id": "00d92a94-cde4-4110-b652-82d4fa5929c8",
   "metadata": {},
   "outputs": [
    {
     "data": {
      "text/plain": [
       "0.022779656082440435"
      ]
     },
     "execution_count": 31,
     "metadata": {},
     "output_type": "execute_result"
    }
   ],
   "source": [
    "#Correlations:\n",
    "#Correlate Income and Expenditure.\n",
    "loan_df.stat.corr(\"Income\",\"Expenditure\")"
   ]
  },
  {
   "cell_type": "code",
   "execution_count": 32,
   "id": "ffb4827f-41f4-43be-bd41-edf704caa246",
   "metadata": {},
   "outputs": [
    {
     "data": {
      "text/plain": [
       "0.050553055880314626"
      ]
     },
     "execution_count": 32,
     "metadata": {},
     "output_type": "execute_result"
    }
   ],
   "source": [
    "\n",
    "#Correlate Overdue with Debt Record.\n",
    "loan_df.stat.corr(\"Overdue\",\" Debt Record\")"
   ]
  },
  {
   "cell_type": "markdown",
   "id": "c061ff9e-4f54-4215-a0c3-7fa0be5dcb0e",
   "metadata": {
    "jp-MarkdownHeadingCollapsed": true
   },
   "source": [
    "#### 6. Outlier Analysis"
   ]
  },
  {
   "cell_type": "code",
   "execution_count": 34,
   "id": "9f411227-2140-41fd-b254-285f0513dbce",
   "metadata": {},
   "outputs": [
    {
     "name": "stdout",
     "output_type": "stream",
     "text": [
      "+-----------+\n",
      "|max(Income)|\n",
      "+-----------+\n",
      "|     930000|\n",
      "+-----------+\n",
      "\n",
      "+-----------+\n",
      "|min(Income)|\n",
      "+-----------+\n",
      "|      28366|\n",
      "+-----------+\n",
      "\n"
     ]
    }
   ],
   "source": [
    "#Identify outliers in:\n",
    "#Income: Customers earning exceptionally high or low.\n",
    "loan_df.select(max(\"Income\")).show()\n",
    "loan_df.select(min(\"Income\")).show()\n"
   ]
  },
  {
   "cell_type": "code",
   "execution_count": 35,
   "id": "7ea6b036-8db9-4c57-a4bb-7565a6521d14",
   "metadata": {},
   "outputs": [
    {
     "name": "stdout",
     "output_type": "stream",
     "text": [
      "+-----------+---+------+-------------------+--------------+-----------+------+-----------+-------------+------------------+-----------+-------+------------+----------------+------------------+-------------------+----------------------+\n",
      "|Customer_ID|Age|Gender|         Occupation|Marital Status|Family Size|Income|Expenditure|Use Frequency|     Loan Category|Loan Amount|Overdue| Debt Record| Returned Cheque| Dishonour of Bill|             E_to_I|Unusually_High_Spender|\n",
      "+-----------+---+------+-------------------+--------------+-----------+------+-----------+-------------+------------------+-----------+-------+------------+----------------+------------------+-------------------+----------------------+\n",
      "|    IB14001| 30|  MALE|       BANK MANAGER|        SINGLE|          4| 50000|      22199|            6|           HOUSING|    1000000|      5|       42898|               6|                 9|            0.44398|                    No|\n",
      "|    IB14008| 44|  MALE|          PROFESSOR|       MARRIED|          6| 51000|      19999|            4|          SHOPPING|      50000|      3|       33999|               1|                 5| 0.3921372549019608|                    No|\n",
      "|    IB14012| 30|FEMALE|            DENTIST|        SINGLE|          3| 58450|      27675|            5|        TRAVELLING|      75000|      6|       20876|               3|                 1|0.47348160821214713|                    No|\n",
      "|    IB14018| 29|  MALE|            TEACHER|       MARRIED|          5| 45767|      12787|            3|         GOLD LOAN|     600000|      7|       11000|               0|                 4| 0.2793934494286276|                    No|\n",
      "|    IB14022| 34|  MALE|             POLICE|        SINGLE|          4| 43521|      11999|            3|        AUTOMOBILE|     200000|      2|       43898|               1|                 2| 0.2757059810206567|                    No|\n",
      "|    IB14024| 55|FEMALE|              NURSE|       MARRIED|          6| 34999|      19888|            4|        AUTOMOBILE|      47787|      1|       50000|               0|                 3| 0.5682448069944855|                    No|\n",
      "|    IB14025| 39|FEMALE|            TEACHER|       MARRIED|          6| 46619|      18675|            4|           HOUSING|    1209867|      8|       29999|               6|                 8| 0.4005877431948347|                    No|\n",
      "|    IB14027| 51|  MALE|     SYSTEM MANAGER|       MARRIED|          3| 49999|      19111|            5|       RESTAURANTS|      60676|      8|       13000|               2|                 5|0.38222764455289104|                    No|\n",
      "|    IB14029| 24|FEMALE|            TEACHER|        SINGLE|          3| 45008|      17454|            4|        AUTOMOBILE|     399435|      9|       51987|               4|                 7| 0.3877977248489157|                    No|\n",
      "|    IB14031| 37|FEMALE|  SOFTWARE ENGINEER|       MARRIED|          5| 55999|      23999|            5|        AUTOMOBILE|      60999|      2|           0|               5|                 3| 0.4285612243075769|                    No|\n",
      "|    IB14032| 24|  MALE|       DATA ANALYST|        SINGLE|          4| 60111|      28999|            6|        AUTOMOBILE|      35232|      5|       33333|               1|                 2|  0.482424181930096|                    No|\n",
      "|    IB14034| 32|  MALE|   PRODUCT ENGINEER|       MARRIED|          6|  NULL|      29000|            7|COMPUTER SOFTWARES|      80660|      6|        4500|               5|                 4|               NULL|                    No|\n",
      "|    IB14037| 54|FEMALE|            TEACHER|       MARRIED|          5| 48099|      19999|            4|       RESTAURANTS|      30999|      1|       12000|               7|                 5| 0.4157882700264039|                    No|\n",
      "|    IB14039| 45|  MALE|    ACCOUNT MANAGER|       MARRIED|          7| 45777|      18452|            4|         GOLD LOAN|     987611|      7|       39999|               8|                 1|0.40308451842628396|                    No|\n",
      "|    IB14041| 59|FEMALE|ASSISTANT PROFESSOR|       MARRIED|          4| 50999|      22999|            5|  EDUCATIONAL LOAN|     599934|      3|        9000|               9|                 9| 0.4509696268554285|                    No|\n",
      "|    IB14042| 25|FEMALE|             DOCTOR|        SINGLE|          4| 60111|      27111|            5|        TRAVELLING|    1290929|      4|       18000|               1|                 0| 0.4510156211009632|                    No|\n",
      "|    IB14045| 31|  MALE|       STORE KEEPER|        SINGLE|          5| 40999|      11999|            3|       BOOK STORES|     167654|      1|        4500|               0|                 1|0.29266567477255545|                    No|\n",
      "|    IB14049| 49|  MALE|       BANK MANAGER|       MARRIED|          4| 45999|      14500|            4|        TRAVELLING|      79999|      4|        6700|               7|                 3|0.31522424400530447|                    No|\n",
      "|    IB14050| 56|  MALE|     CIVIL ENGINEER|       MARRIED|          4|  NULL|      13999|            3|           HOUSING|    1065577|      6|       19999|               4|                 2|               NULL|                    No|\n",
      "|    IB14054| 58|FEMALE|             DOCTOR|       MARRIED|          5| 60000|      25000|            5|           HOUSING|     900000|      5|       21000|               9|                 0| 0.4166666666666667|                    No|\n",
      "+-----------+---+------+-------------------+--------------+-----------+------+-----------+-------------+------------------+-----------+-------+------------+----------------+------------------+-------------------+----------------------+\n",
      "only showing top 20 rows\n",
      "\n"
     ]
    }
   ],
   "source": [
    "#Expenditure: Unusually high spenders relative to income.\n",
    "\n",
    "#Chat GPT \n",
    "df = loan_df.withColumn(\"E_to_I\",col(\"Expenditure\")/col(\"Income\"))\n",
    "\n",
    "stats = df.select(round(avg(\"E_to_I\"),2).alias(\"Mean_ratio\"),round(stddev(\"E_to_I\"),2).alias(\"stddev_ratio\")).collect()\n",
    "\n",
    "mean_ratio = stats[0][\"Mean_ratio\"]\n",
    "stddev_ratio = stats[0][\"stddev_ratio\"]\n",
    "\n",
    "threshold = mean_ratio +2 * stddev_ratio\n",
    "\n",
    "df_flagged = df.withColumn(\n",
    "    \"Unusually_High_Spender\",\n",
    "    when(col(\"E_to_I\") > threshold, \"Yes\").otherwise(\"No\")\n",
    ")\n",
    "\n",
    "df_flagged.show()\n",
    "\n"
   ]
  },
  {
   "cell_type": "code",
   "execution_count": 36,
   "id": "7dd1443f-6dae-4d89-9953-697ee378e7d9",
   "metadata": {},
   "outputs": [
    {
     "name": "stdout",
     "output_type": "stream",
     "text": [
      "+--------------------------+\n",
      "|round(avg(Loan Amount), 0)|\n",
      "+--------------------------+\n",
      "|                  797053.0|\n",
      "+--------------------------+\n",
      "\n"
     ]
    },
    {
     "data": {
      "text/plain": [
       "201"
      ]
     },
     "execution_count": 36,
     "metadata": {},
     "output_type": "execute_result"
    }
   ],
   "source": [
    "#Loan Amounts: Loans significantly higher than the average.\n",
    "\n",
    "loan_df.select(round(avg(\"Loan Amount\"))).show()\n",
    "\n",
    "loan_df.filter(col(\"Loan Amount\")>797053.0).count()"
   ]
  },
  {
   "cell_type": "code",
   "execution_count": null,
   "id": "c974467b-182e-453c-bb87-13fda4f6b65f",
   "metadata": {},
   "outputs": [],
   "source": []
  },
  {
   "cell_type": "markdown",
   "id": "403777d5-9ba9-461e-abc2-5c877dcc8e3d",
   "metadata": {
    "jp-MarkdownHeadingCollapsed": true
   },
   "source": [
    "#### 7. General Analysis Questions\n"
   ]
  },
  {
   "cell_type": "code",
   "execution_count": 38,
   "id": "286a6152-6d70-4adc-a4a4-19850b9883b8",
   "metadata": {},
   "outputs": [
    {
     "name": "stdout",
     "output_type": "stream",
     "text": [
      "+--------+\n",
      "|avg(Age)|\n",
      "+--------+\n",
      "|  40.946|\n",
      "+--------+\n",
      "\n"
     ]
    }
   ],
   "source": [
    "#What is the average age of customers?\n",
    "loan_df.select(avg(\"Age\")).show()"
   ]
  },
  {
   "cell_type": "code",
   "execution_count": 39,
   "id": "ae7729fe-464a-4994-9a15-91384e41e3fd",
   "metadata": {},
   "outputs": [
    {
     "data": {
      "text/plain": [
       "499"
      ]
     },
     "execution_count": 39,
     "metadata": {},
     "output_type": "execute_result"
    }
   ],
   "source": [
    "#How many customers are there in total?\n",
    "loan_df.select(\"Customer_ID\").distinct().count()"
   ]
  },
  {
   "cell_type": "code",
   "execution_count": 40,
   "id": "afde3623-29c5-4c22-8fdb-285e4aa39457",
   "metadata": {},
   "outputs": [
    {
     "data": {
      "text/plain": [
       "39"
      ]
     },
     "execution_count": 40,
     "metadata": {},
     "output_type": "execute_result"
    }
   ],
   "source": [
    "#How many unique occupations are there in the dataset?\n",
    "loan_df.select(\"Occupation\").distinct().count()"
   ]
  },
  {
   "cell_type": "code",
   "execution_count": 41,
   "id": "5a9c2c5b-2b71-41fc-bf97-5d6d6594ce8c",
   "metadata": {},
   "outputs": [
    {
     "name": "stdout",
     "output_type": "stream",
     "text": [
      "+-----------------+\n",
      "|Total_Loan_Amount|\n",
      "+-----------------+\n",
      "|        398526449|\n",
      "+-----------------+\n",
      "\n"
     ]
    }
   ],
   "source": [
    "#What is the total loan amount across all customers?\n",
    "loan_df.select(sum(\"Loan amount\").alias(\"Total_Loan_Amount\")).show()"
   ]
  },
  {
   "cell_type": "code",
   "execution_count": 42,
   "id": "fe78c08e-99af-4283-a925-e66ab335f4d6",
   "metadata": {},
   "outputs": [
    {
     "name": "stdout",
     "output_type": "stream",
     "text": [
      "+-------------------+\n",
      "|Average_Expenditure|\n",
      "+-------------------+\n",
      "|            27533.0|\n",
      "+-------------------+\n",
      "\n"
     ]
    }
   ],
   "source": [
    "#What is the average expenditure of customers?\n",
    "loan_df.select(round(avg(\"Expenditure\")).alias(\"Average_Expenditure\")).show()"
   ]
  },
  {
   "cell_type": "code",
   "execution_count": 43,
   "id": "9ccf3787-da56-4161-b102-91cf4827eb9e",
   "metadata": {},
   "outputs": [
    {
     "name": "stdout",
     "output_type": "stream",
     "text": [
      "+--------------+-----------------+\n",
      "|Marital Status|Total_Loan_Amount|\n",
      "+--------------+-----------------+\n",
      "|       MARRIED|        286407764|\n",
      "+--------------+-----------------+\n",
      "\n"
     ]
    }
   ],
   "source": [
    "#Which marital status group has the highest total loan amount?\n",
    "loan_df.groupBy(\"Marital Status\").agg(sum(\"Loan Amount\").alias(\"Total_Loan_Amount\")).orderBy(col(\"Total_Loan_Amount\").desc()).limit(1).show()\n"
   ]
  },
  {
   "cell_type": "code",
   "execution_count": 44,
   "id": "4355bf11-7367-429d-9275-f0c3b6277342",
   "metadata": {},
   "outputs": [
    {
     "data": {
      "text/plain": [
       "130"
      ]
     },
     "execution_count": 44,
     "metadata": {},
     "output_type": "execute_result"
    }
   ],
   "source": [
    "#How many customers have a loan amount greater than 1,000,000?\n",
    "loan_df.filter(col(\"Loan Amount\")>1000000).count()\n"
   ]
  },
  {
   "cell_type": "code",
   "execution_count": 45,
   "id": "68a9ea70-478b-4689-84c8-70c1c45d7a35",
   "metadata": {},
   "outputs": [
    {
     "name": "stdout",
     "output_type": "stream",
     "text": [
      "+----------+-----+\n",
      "|Occupation|count|\n",
      "+----------+-----+\n",
      "|   TEACHER|   63|\n",
      "+----------+-----+\n",
      "\n"
     ]
    }
   ],
   "source": [
    "#Which loan category has the most customers?\n",
    "loan_df.groupBy(\"Occupation\").count().orderBy(col(\"count\").desc()).limit(1).show()"
   ]
  },
  {
   "cell_type": "code",
   "execution_count": 46,
   "id": "95ce37d1-93ca-406f-b5c9-a32752a7e2d3",
   "metadata": {},
   "outputs": [
    {
     "name": "stdout",
     "output_type": "stream",
     "text": [
      "+--------------+-----------------+\n",
      "|Marital Status|total debt record|\n",
      "+--------------+-----------------+\n",
      "|        SINGLE|          6730508|\n",
      "|       MARRIED|         13149192|\n",
      "+--------------+-----------------+\n",
      "\n"
     ]
    }
   ],
   "source": [
    "#What is the total debt record count for each marital status (Single vs. Married)?\n",
    "#Chat gpt\n",
    "loan_df.groupBy(\"Marital Status\").agg(sum(\" Debt Record\").alias(\"total debt record\")).show()"
   ]
  },
  {
   "cell_type": "code",
   "execution_count": 47,
   "id": "df3d506f-2b96-4445-87a8-ef6e42e9a709",
   "metadata": {},
   "outputs": [
    {
     "name": "stdout",
     "output_type": "stream",
     "text": [
      "+------+-------------------+\n",
      "|Gender|Average_Family_Size|\n",
      "+------+-------------------+\n",
      "|  MALE|                5.0|\n",
      "|FEMALE|                4.0|\n",
      "+------+-------------------+\n",
      "\n"
     ]
    }
   ],
   "source": [
    "#What is the average family size for male and female customers?\n",
    "loan_df.groupBy(\"Gender\").agg(round(avg(\"Family Size\")).alias(\"Average_Family_Size\")).show()"
   ]
  },
  {
   "cell_type": "code",
   "execution_count": 48,
   "id": "d9a4e17e-3920-49da-b3d7-2bd6aa2be3a5",
   "metadata": {},
   "outputs": [
    {
     "name": "stdout",
     "output_type": "stream",
     "text": [
      "+-----------------+-------------------+\n",
      "|       Occupation|Average_Loan_Amount|\n",
      "+-----------------+-------------------+\n",
      "|CORPORATE OFFICER|          5230555.0|\n",
      "+-----------------+-------------------+\n",
      "\n"
     ]
    }
   ],
   "source": [
    "#Which occupation has the highest average loan amount?\n",
    "\n",
    "loan_df.groupBy(\"Occupation\").agg(round(avg(\"Loan Amount\")).alias(\"Average_Loan_Amount\")).orderBy(col(\"Average_Loan_Amount\").desc()).limit(1).show()\n"
   ]
  },
  {
   "cell_type": "code",
   "execution_count": 49,
   "id": "ac87be91-ded6-48f1-b5a5-68a2ab6530db",
   "metadata": {},
   "outputs": [
    {
     "data": {
      "text/plain": [
       "156"
      ]
     },
     "execution_count": 49,
     "metadata": {},
     "output_type": "execute_result"
    }
   ],
   "source": [
    "#How many customers have a 'Returned Cheque' value greater than 5?\n",
    "\n",
    "loan_df.filter(col(\" Returned Cheque\") > 5).count()"
   ]
  },
  {
   "cell_type": "code",
   "execution_count": null,
   "id": "c13f1814-3d54-49db-a627-13ffb581a34e",
   "metadata": {},
   "outputs": [],
   "source": []
  },
  {
   "cell_type": "markdown",
   "id": "682b599d-4383-4566-8ba9-620fc0680cea",
   "metadata": {
    "jp-MarkdownHeadingCollapsed": true
   },
   "source": [
    "#### 8. Gender-Based Analysis"
   ]
  },
  {
   "cell_type": "code",
   "execution_count": 51,
   "id": "c3698404-bbdc-41d6-974f-88642f469ea3",
   "metadata": {},
   "outputs": [
    {
     "data": {
      "text/plain": [
       "193"
      ]
     },
     "execution_count": 51,
     "metadata": {},
     "output_type": "execute_result"
    }
   ],
   "source": [
    "#How many male customers have a loan amount greater than 500,000?\n",
    "df = loan_df.filter(col(\"Gender\") == \"MALE\")\n",
    "df.filter(col(\"Loan Amount\")> 500000).count()\n"
   ]
  },
  {
   "cell_type": "code",
   "execution_count": 52,
   "id": "2e4526bf-0185-4285-90ff-7a64d68dd71e",
   "metadata": {},
   "outputs": [
    {
     "name": "stdout",
     "output_type": "stream",
     "text": [
      "+------------------------+\n",
      "|sum(Average_Loan_Amount)|\n",
      "+------------------------+\n",
      "|              1607180.83|\n",
      "+------------------------+\n",
      "\n",
      "+----------------------------------+\n",
      "|(Average_Loan_Amount / 1607180.83)|\n",
      "+----------------------------------+\n",
      "|                0.4661025729133417|\n",
      "|                0.5338974270866583|\n",
      "+----------------------------------+\n",
      "\n"
     ]
    }
   ],
   "source": [
    "#What is the average loan amount for male customers compared to female customers?\n",
    "df = loan_df.groupBy(\"Gender\").agg(round(avg(\"Loan Amount\"),2).alias(\"Average_Loan_Amount\"))\n",
    "df.select(sum(\"Average_Loan_Amount\")).show()\n",
    "df.select(col(\"Average_Loan_Amount\")/1607180.83).show()\n",
    "\n"
   ]
  },
  {
   "cell_type": "code",
   "execution_count": 53,
   "id": "8aa1fa2b-b65a-4b55-957b-3c667553f8fd",
   "metadata": {},
   "outputs": [
    {
     "data": {
      "text/plain": [
       "91"
      ]
     },
     "execution_count": 53,
     "metadata": {},
     "output_type": "execute_result"
    }
   ],
   "source": [
    "#How many female customers have overdue counts greater than 5?\n",
    "\n",
    "loan_df.filter((col(\"Gender\") == \"FEMALE\") & (col(\"Overdue\")>5)).count()"
   ]
  },
  {
   "cell_type": "code",
   "execution_count": 54,
   "id": "30917935-38b8-4647-b0d6-a47cb87756fe",
   "metadata": {},
   "outputs": [
    {
     "name": "stdout",
     "output_type": "stream",
     "text": [
      "+-------------+------+----------------+\n",
      "|Loan Category|Gender|sum(Loan Amount)|\n",
      "+-------------+------+----------------+\n",
      "|   TRAVELLING|  MALE|        22323627|\n",
      "+-------------+------+----------------+\n",
      "\n"
     ]
    }
   ],
   "source": [
    "#What is the total loan amount for male customers in the 'TRAVELLING' loan category?\n",
    "df = loan_df.groupBy(\"Loan Category\",\"Gender\").agg(sum(\"Loan Amount\"))\n",
    "df.filter((col(\"Loan Category\") == \"TRAVELLING\")& (col(\"Gender\")==\"MALE\")).show()"
   ]
  },
  {
   "cell_type": "markdown",
   "id": "1908621f-ec81-4f91-8266-a2046649282c",
   "metadata": {},
   "source": [
    "#### 9. Loan Category Analysis:"
   ]
  },
  {
   "cell_type": "code",
   "execution_count": 56,
   "id": "8e2d2dd1-9a8d-4887-8ca9-6f529c242f26",
   "metadata": {},
   "outputs": [
    {
     "name": "stdout",
     "output_type": "stream",
     "text": [
      "+------------------+----------------+\n",
      "|     Loan Category|sum(Loan Amount)|\n",
      "+------------------+----------------+\n",
      "|         GOLD LOAN|        70991425|\n",
      "|           HOUSING|        60346129|\n",
      "|        AUTOMOBILE|        56542964|\n",
      "|        TRAVELLING|        36608973|\n",
      "|COMPUTER SOFTWARES|        34810861|\n",
      "|       RESTAURANTS|        25006754|\n",
      "|          BUSINESS|        23368358|\n",
      "|  EDUCATIONAL LOAN|        18394223|\n",
      "|          SHOPPING|        15645414|\n",
      "|        RESTAURANT|        11729243|\n",
      "|       AGRICULTURE|        11590221|\n",
      "|           DINNING|         9167850|\n",
      "|       ELECTRONICS|         8970419|\n",
      "|   HOME APPLIANCES|         7879927|\n",
      "|          BUILDING|         3792037|\n",
      "|       BOOK STORES|         3681651|\n",
      "+------------------+----------------+\n",
      "\n"
     ]
    }
   ],
   "source": [
    "#What is the total loan amount for each loan category (e.g., HOUSING, SHOPPING, AUTOMOBILE)?\n",
    "\n",
    "df = loan_df.groupby(\"Loan Category\").agg(sum(\"Loan Amount\")).orderBy(col(\"sum(Loan Amount)\").desc())\n",
    "df.show()"
   ]
  },
  {
   "cell_type": "code",
   "execution_count": 57,
   "id": "07efd84e-c78e-4523-9f55-62d52efeb201",
   "metadata": {},
   "outputs": [
    {
     "name": "stdout",
     "output_type": "stream",
     "text": [
      "+-------------+--------------------------+\n",
      "|Loan Category|round(avg(Loan Amount), 1)|\n",
      "+-------------+--------------------------+\n",
      "|    GOLD LOAN|                  921966.6|\n",
      "+-------------+--------------------------+\n",
      "\n"
     ]
    }
   ],
   "source": [
    "#What is the average loan amount for customers in the 'GOLD LOAN' category?\n",
    "\n",
    "df = loan_df.groupBy(\"Loan Category\").agg(round(avg(\"Loan Amount\"),1))\n",
    "\n",
    "df.filter(col(\"Loan Category\") == \"GOLD LOAN\").show()\n"
   ]
  },
  {
   "cell_type": "code",
   "execution_count": 58,
   "id": "c362cd02-8613-4a7f-9e38-b534155dae23",
   "metadata": {},
   "outputs": [
    {
     "name": "stdout",
     "output_type": "stream",
     "text": [
      "+------------------+--------------+\n",
      "|     Loan Category|Customer_Count|\n",
      "+------------------+--------------+\n",
      "|         GOLD LOAN|            38|\n",
      "|           HOUSING|            31|\n",
      "|        TRAVELLING|            25|\n",
      "|        AUTOMOBILE|            20|\n",
      "|COMPUTER SOFTWARES|            19|\n",
      "|          SHOPPING|            18|\n",
      "|       RESTAURANTS|            15|\n",
      "|          BUSINESS|            13|\n",
      "|        RESTAURANT|            13|\n",
      "|  EDUCATIONAL LOAN|             8|\n",
      "|       ELECTRONICS|             8|\n",
      "|       AGRICULTURE|             7|\n",
      "|           DINNING|             5|\n",
      "|   HOME APPLIANCES|             5|\n",
      "|       BOOK STORES|             3|\n",
      "|          BUILDING|             3|\n",
      "+------------------+--------------+\n",
      "\n"
     ]
    }
   ],
   "source": [
    "#Which loan category has the most customers with overdue values greater than 5?\n",
    "\n",
    "loan_df.filter(col(\"Overdue\")>5)\\\n",
    "                    .groupBy(\"Loan Category\")\\\n",
    "                    .agg(count(\"Customer_ID\").alias(\"Customer_Count\"))\\\n",
    "                    .orderBy(col(\"Customer_Count\").desc()).show()\n"
   ]
  },
  {
   "cell_type": "markdown",
   "id": "6c100211-df57-48d0-93f6-d61944184941",
   "metadata": {},
   "source": [
    "#### 10. Family Size and Marital Status Analysis\n"
   ]
  },
  {
   "cell_type": "code",
   "execution_count": 60,
   "id": "7d49f707-6851-4b18-8033-c98720dd96b9",
   "metadata": {},
   "outputs": [
    {
     "name": "stdout",
     "output_type": "stream",
     "text": [
      "+--------------+--------------------------+\n",
      "|Marital Status|round(avg(Family Size), 2)|\n",
      "+--------------+--------------------------+\n",
      "|        SINGLE|                      4.21|\n",
      "|       MARRIED|                      4.69|\n",
      "+--------------+--------------------------+\n",
      "\n"
     ]
    }
   ],
   "source": [
    "#How does the family size of single customers compare to married customers?\n",
    "\n",
    "loan_df.groupBy(\"Marital Status\").agg(round(avg(\"Family Size\"),2)).show()\n"
   ]
  },
  {
   "cell_type": "code",
   "execution_count": 61,
   "id": "ee25a18b-d56f-47cc-a6a7-f71e63f3862d",
   "metadata": {},
   "outputs": [
    {
     "name": "stdout",
     "output_type": "stream",
     "text": [
      "+-----------+----------------+\n",
      "|Family Size|sum(Loan Amount)|\n",
      "+-----------+----------------+\n",
      "|          6|        65084466|\n",
      "|          7|        55001865|\n",
      "+-----------+----------------+\n",
      "\n"
     ]
    }
   ],
   "source": [
    "#What is the total loan amount for customers with a family size greater than 5?\n",
    "\n",
    "loan_df.groupBy(\"Family Size\").agg(sum(\"Loan Amount\")).filter(col(\"Family Size\")>5).show()"
   ]
  },
  {
   "cell_type": "code",
   "execution_count": 62,
   "id": "4ed4b48c-5a15-42dd-b4ad-979e3c10e011",
   "metadata": {},
   "outputs": [
    {
     "data": {
      "text/plain": [
       "3"
      ]
     },
     "execution_count": 62,
     "metadata": {},
     "output_type": "execute_result"
    }
   ],
   "source": [
    "#How many married customers have a family size of 4 or more?\n",
    "\n",
    "df = loan_df.groupBy(\"Marital Status\",\"Family Size\").count()\n",
    "df.filter(col(\"Marital Status\") == \"MARRIED\").filter(col(\"Family Size\")>4).count()"
   ]
  },
  {
   "cell_type": "markdown",
   "id": "068657ee-af62-4a2f-a580-91a4e08776b0",
   "metadata": {},
   "source": [
    "#### 11. Income and Expenditure Analysis\n"
   ]
  },
  {
   "cell_type": "code",
   "execution_count": 64,
   "id": "22880dfe-5f98-4cdd-a228-c2805da4408f",
   "metadata": {},
   "outputs": [
    {
     "name": "stdout",
     "output_type": "stream",
     "text": [
      "+--------------+--------------+\n",
      "|Marital Status|Average_Income|\n",
      "+--------------+--------------+\n",
      "|       MARRIED|      71465.58|\n",
      "+--------------+--------------+\n",
      "\n"
     ]
    }
   ],
   "source": [
    "#What is the average income for customers who are married?\n",
    "\n",
    "loan_df.groupBy(\"Marital Status\").agg(round(avg(\"Income\"),2).alias(\"Average_Income\"))\\\n",
    "        .filter(col(\"Marital Status\")== \"MARRIED\").show()"
   ]
  },
  {
   "cell_type": "code",
   "execution_count": 65,
   "id": "1c0110b6-b67e-4110-92ef-03bad60cd1ac",
   "metadata": {},
   "outputs": [
    {
     "name": "stdout",
     "output_type": "stream",
     "text": [
      "+-----------+-----------+------+\n",
      "|Customer_ID|Loan Amount|Income|\n",
      "+-----------+-----------+------+\n",
      "|    IBI4157|     679040|930000|\n",
      "+-----------+-----------+------+\n",
      "\n"
     ]
    }
   ],
   "source": [
    "#Which customer has the highest income and what is their loan amount?\n",
    "\n",
    "loan_df.select(\"Customer_ID\",\"Loan Amount\",\"Income\").orderBy(col(\"Income\").desc()).limit(1).show()"
   ]
  },
  {
   "cell_type": "code",
   "execution_count": 66,
   "id": "670d884f-e890-45e1-8a7a-ac3616506517",
   "metadata": {},
   "outputs": [
    {
     "data": {
      "text/plain": [
       "225"
      ]
     },
     "execution_count": 66,
     "metadata": {},
     "output_type": "execute_result"
    }
   ],
   "source": [
    "#How many customers have an income greater than 50,000 and an expenditure greater than 20,000?\n",
    "loan_df.filter( (col(\"Income\") > 50000) & (col(\"Expenditure\")>20000) ).count()\n"
   ]
  },
  {
   "cell_type": "code",
   "execution_count": 67,
   "id": "d9982d5f-4d38-4658-8fc0-bc3325b27eca",
   "metadata": {},
   "outputs": [
    {
     "name": "stdout",
     "output_type": "stream",
     "text": [
      "+-----------+----------------+\n",
      "|sum(Income)|sum(Expenditure)|\n",
      "+-----------+----------------+\n",
      "|   31982882|        13243460|\n",
      "+-----------+----------------+\n",
      "\n"
     ]
    }
   ],
   "source": [
    "#What is the total income and expenditure for all customers combined?\n",
    "loan_df.select(sum(\"Income\"),sum(\"Expenditure\")).show()\n"
   ]
  },
  {
   "cell_type": "markdown",
   "id": "28e9c44f-666f-435a-be74-cd826fa5c5e3",
   "metadata": {},
   "source": [
    "#### 12. Specific Customer Query"
   ]
  },
  {
   "cell_type": "code",
   "execution_count": 69,
   "id": "8f20c8b9-5c19-43c8-a3fa-d431b429ccbf",
   "metadata": {},
   "outputs": [
    {
     "name": "stdout",
     "output_type": "stream",
     "text": [
      "+-----------+---+------+----------+--------------+-----------+------+-----------+-------------+-------------+-----------+-------+------------+----------------+------------------+\n",
      "|Customer_ID|Age|Gender|Occupation|Marital Status|Family Size|Income|Expenditure|Use Frequency|Loan Category|Loan Amount|Overdue| Debt Record| Returned Cheque| Dishonour of Bill|\n",
      "+-----------+---+------+----------+--------------+-----------+------+-----------+-------------+-------------+-----------+-------+------------+----------------+------------------+\n",
      "|    IB14029| 24|FEMALE|   TEACHER|        SINGLE|          3| 45008|      17454|            4|   AUTOMOBILE|     399435|      9|       51987|               4|                 7|\n",
      "+-----------+---+------+----------+--------------+-----------+------+-----------+-------------+-------------+-----------+-------+------------+----------------+------------------+\n",
      "\n"
     ]
    }
   ],
   "source": [
    "#What are the details of the customer with the highest overdue count?\n",
    "\n",
    "loan_df.orderBy(col(\"Overdue\").desc()).limit(1).show()\n"
   ]
  },
  {
   "cell_type": "code",
   "execution_count": 70,
   "id": "39061935-a190-49c2-a573-a31ed63edba6",
   "metadata": {},
   "outputs": [
    {
     "name": "stdout",
     "output_type": "stream",
     "text": [
      "+-----------+\n",
      "|Loan Amount|\n",
      "+-----------+\n",
      "|     987611|\n",
      "+-----------+\n",
      "\n"
     ]
    }
   ],
   "source": [
    "#Which customer has the lowest family size, and what is their loan amount?\n",
    "\n",
    "df = loan_df.orderBy(col(\"Family Size\").desc()).limit(1)\n",
    "df.select(\"Loan Amount\").show()\n"
   ]
  },
  {
   "cell_type": "code",
   "execution_count": 71,
   "id": "06e74bde-e3c7-4e9a-b05f-9d8abf18bd62",
   "metadata": {},
   "outputs": [
    {
     "data": {
      "text/plain": [
       "496"
      ]
     },
     "execution_count": 71,
     "metadata": {},
     "output_type": "execute_result"
    }
   ],
   "source": [
    "#How many customers have a debt record greater than 5?\n",
    "\n",
    "loan_df.filter(col(\" Debt Record\")>5).count()"
   ]
  },
  {
   "cell_type": "code",
   "execution_count": 72,
   "id": "655b1923-afa5-499d-bae3-fd3ee002386e",
   "metadata": {},
   "outputs": [
    {
     "name": "stdout",
     "output_type": "stream",
     "text": [
      "+------------+----------------------+\n",
      "|  Occupation|round(avg(Overdue), 1)|\n",
      "+------------+----------------------+\n",
      "|PUBLIC WORKS|                   8.7|\n",
      "+------------+----------------------+\n",
      "\n"
     ]
    }
   ],
   "source": [
    "#Which occupation group has the highest average overdue count?\n",
    "\n",
    "loan_df.groupBy(\"Occupation\").agg(round(avg(\"Overdue\"),1)).orderBy(col(\"round(avg(Overdue), 1)\").desc()).limit(1).show()"
   ]
  },
  {
   "cell_type": "markdown",
   "id": "397be01e-0647-4713-b985-f64de62f0104",
   "metadata": {},
   "source": [
    "#### 13. Aggregation and Grouping Questions"
   ]
  },
  {
   "cell_type": "code",
   "execution_count": 74,
   "id": "78435f06-9d24-4102-85cd-711095fa1c9e",
   "metadata": {},
   "outputs": [
    {
     "name": "stdout",
     "output_type": "stream",
     "text": [
      "+--------------+----------------+\n",
      "|Marital Status|sum(Loan Amount)|\n",
      "+--------------+----------------+\n",
      "|        SINGLE|       112118685|\n",
      "|       MARRIED|       286407764|\n",
      "+--------------+----------------+\n",
      "\n"
     ]
    }
   ],
   "source": [
    "#What is the total loan amount per marital status?\n",
    "\n",
    "loan_df.groupBy(\"Marital Status\").agg(sum(\"Loan Amount\")).show()\n"
   ]
  },
  {
   "cell_type": "code",
   "execution_count": 75,
   "id": "4157ce54-bcc6-447b-b25c-1caba6a93e93",
   "metadata": {},
   "outputs": [
    {
     "name": "stdout",
     "output_type": "stream",
     "text": [
      "+--------------------+--------------------------+\n",
      "|          Occupation|round(avg(Family Size), 1)|\n",
      "+--------------------+--------------------------+\n",
      "|      CIVIL ENGINEER|                       4.8|\n",
      "|     FIRE DEPARTMENT|                       4.5|\n",
      "|          ACCOUNTANT|                       5.0|\n",
      "|        BANK MANAGER|                       4.8|\n",
      "|      SYSTEM OFFICER|                       5.8|\n",
      "|           NUTRITION|                       6.0|\n",
      "|           DIETICIAN|                       3.8|\n",
      "|               CLERK|                       4.3|\n",
      "|   SOFTWARE ENGINEER|                       4.1|\n",
      "|AGRICULTURAL ENGI...|                       4.4|\n",
      "|   ASSISTANT MANAGER|                       6.2|\n",
      "|             TEACHER|                       4.6|\n",
      "| ASSISTANT PROFESSOR|                       4.9|\n",
      "|     SYSTEM ENGINEER|                       4.7|\n",
      "| CHARTERED APPRAISER|                       4.0|\n",
      "|                NAVY|                       4.3|\n",
      "|              POLICE|                       4.2|\n",
      "|            BUSINESS|                       4.4|\n",
      "|              FARMER|                       5.0|\n",
      "|              DRIVER|                       4.6|\n",
      "+--------------------+--------------------------+\n",
      "only showing top 20 rows\n",
      "\n"
     ]
    }
   ],
   "source": [
    "#What is the average family size per occupation?\n",
    "\n",
    "loan_df.groupBy(\"Occupation\").agg(round(avg(\"Family Size\"),1)).show()\n",
    "\n"
   ]
  },
  {
   "cell_type": "code",
   "execution_count": 76,
   "id": "110d55d4-6425-4059-ad3a-d0ee29240fa6",
   "metadata": {},
   "outputs": [
    {
     "name": "stdout",
     "output_type": "stream",
     "text": [
      "+------------------+-----------------+\n",
      "|     Loan Category|sum( Debt Record)|\n",
      "+------------------+-----------------+\n",
      "|           HOUSING|          2685248|\n",
      "|        TRAVELLING|          2105826|\n",
      "|       BOOK STORES|           259858|\n",
      "|       AGRICULTURE|           529396|\n",
      "|         GOLD LOAN|          3360447|\n",
      "|  EDUCATIONAL LOAN|           714777|\n",
      "|        AUTOMOBILE|          2289605|\n",
      "|          BUSINESS|          1022936|\n",
      "|COMPUTER SOFTWARES|          1106062|\n",
      "|           DINNING|           458179|\n",
      "|          SHOPPING|          1598401|\n",
      "|       RESTAURANTS|          1628403|\n",
      "|       ELECTRONICS|           473985|\n",
      "|          BUILDING|           146894|\n",
      "|        RESTAURANT|           943240|\n",
      "|   HOME APPLIANCES|           556443|\n",
      "+------------------+-----------------+\n",
      "\n"
     ]
    }
   ],
   "source": [
    "#What is the total debt record count by loan category?\n",
    "loan_df.groupBy(\"Loan Category\").agg(sum(\" Debt Record\")).show()"
   ]
  },
  {
   "cell_type": "code",
   "execution_count": 163,
   "id": "bdf4d208-5a5c-4e0f-93ae-83a5977c042e",
   "metadata": {},
   "outputs": [
    {
     "name": "stdout",
     "output_type": "stream",
     "text": [
      "+-----------------+\n",
      "|Total_Laon_Amount|\n",
      "+-----------------+\n",
      "|        284854416|\n",
      "+-----------------+\n",
      "\n"
     ]
    }
   ],
   "source": [
    "#What is the sum of loan amounts for customers who have an expenditure greater than 20,000?\n",
    "\n",
    "df = loan_df.filter(col(\"Expenditure\")>20000)\n",
    "df.select(sum(\"Loan Amount\").alias(\"Total_Laon_Amount\")).show()\n"
   ]
  },
  {
   "cell_type": "code",
   "execution_count": 165,
   "id": "d471a0cf-d2ee-4d84-a068-f29e1969e6c5",
   "metadata": {},
   "outputs": [
    {
     "data": {
      "text/plain": [
       "139"
      ]
     },
     "execution_count": 165,
     "metadata": {},
     "output_type": "execute_result"
    }
   ],
   "source": [
    "#How many customers have a loan amount greater than 100,000 and are in the 'SINGLE' marital status group?\n",
    "loan_df.filter((col(\"Loan Amount\")>100000) & (col(\"Marital Status\") == \"SINGLE\")).count()"
   ]
  },
  {
   "cell_type": "code",
   "execution_count": null,
   "id": "637b2854-5683-4f4e-a631-24718912165e",
   "metadata": {},
   "outputs": [],
   "source": []
  },
  {
   "cell_type": "code",
   "execution_count": null,
   "id": "5539e9e6-01e4-4f91-9b8e-ed4ec6879eff",
   "metadata": {},
   "outputs": [],
   "source": []
  },
  {
   "cell_type": "code",
   "execution_count": null,
   "id": "274943c1-3006-46d3-95ad-00f935ebdf7f",
   "metadata": {},
   "outputs": [],
   "source": []
  },
  {
   "cell_type": "code",
   "execution_count": null,
   "id": "4610db41-5816-4501-b3ed-93294f817ec9",
   "metadata": {},
   "outputs": [],
   "source": []
  }
 ],
 "metadata": {
  "kernelspec": {
   "display_name": "PYSPARK_KERNEL",
   "language": "python",
   "name": "pyspark_kernel"
  },
  "language_info": {
   "codemirror_mode": {
    "name": "ipython",
    "version": 3
   },
   "file_extension": ".py",
   "mimetype": "text/x-python",
   "name": "python",
   "nbconvert_exporter": "python",
   "pygments_lexer": "ipython3",
   "version": "3.12.7"
  }
 },
 "nbformat": 4,
 "nbformat_minor": 5
}
